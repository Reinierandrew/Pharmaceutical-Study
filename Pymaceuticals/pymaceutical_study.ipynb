{
 "cells": [
  {
   "cell_type": "markdown",
   "metadata": {},
   "source": [
    "## Observations and Insights "
   ]
  },
  {
   "cell_type": "markdown",
   "metadata": {},
   "source": []
  },
  {
   "cell_type": "code",
   "execution_count": 200,
   "metadata": {},
   "outputs": [
    {
     "data": {
      "text/html": [
       "<div>\n",
       "<style scoped>\n",
       "    .dataframe tbody tr th:only-of-type {\n",
       "        vertical-align: middle;\n",
       "    }\n",
       "\n",
       "    .dataframe tbody tr th {\n",
       "        vertical-align: top;\n",
       "    }\n",
       "\n",
       "    .dataframe thead th {\n",
       "        text-align: right;\n",
       "    }\n",
       "</style>\n",
       "<table border=\"1\" class=\"dataframe\">\n",
       "  <thead>\n",
       "    <tr style=\"text-align: right;\">\n",
       "      <th></th>\n",
       "      <th>Mouse ID</th>\n",
       "      <th>Drug Regimen</th>\n",
       "      <th>Sex</th>\n",
       "      <th>Age_months</th>\n",
       "      <th>Weight (g)</th>\n",
       "      <th>Timepoint</th>\n",
       "      <th>Tumour Volume (mm3)</th>\n",
       "      <th>Metastatic Sites</th>\n",
       "    </tr>\n",
       "  </thead>\n",
       "  <tbody>\n",
       "    <tr>\n",
       "      <th>953</th>\n",
       "      <td>i635</td>\n",
       "      <td>Propriva</td>\n",
       "      <td>Male</td>\n",
       "      <td>21</td>\n",
       "      <td>26</td>\n",
       "      <td>0</td>\n",
       "      <td>45.000000</td>\n",
       "      <td>0</td>\n",
       "    </tr>\n",
       "    <tr>\n",
       "      <th>1773</th>\n",
       "      <td>x581</td>\n",
       "      <td>Ceftamin</td>\n",
       "      <td>Female</td>\n",
       "      <td>19</td>\n",
       "      <td>28</td>\n",
       "      <td>45</td>\n",
       "      <td>64.634949</td>\n",
       "      <td>3</td>\n",
       "    </tr>\n",
       "    <tr>\n",
       "      <th>1797</th>\n",
       "      <td>x822</td>\n",
       "      <td>Ceftamin</td>\n",
       "      <td>Male</td>\n",
       "      <td>3</td>\n",
       "      <td>29</td>\n",
       "      <td>45</td>\n",
       "      <td>61.386660</td>\n",
       "      <td>3</td>\n",
       "    </tr>\n",
       "    <tr>\n",
       "      <th>1190</th>\n",
       "      <td>m550</td>\n",
       "      <td>Ketapril</td>\n",
       "      <td>Male</td>\n",
       "      <td>18</td>\n",
       "      <td>28</td>\n",
       "      <td>30</td>\n",
       "      <td>60.856543</td>\n",
       "      <td>4</td>\n",
       "    </tr>\n",
       "    <tr>\n",
       "      <th>1192</th>\n",
       "      <td>m550</td>\n",
       "      <td>Ketapril</td>\n",
       "      <td>Male</td>\n",
       "      <td>18</td>\n",
       "      <td>28</td>\n",
       "      <td>40</td>\n",
       "      <td>68.210720</td>\n",
       "      <td>4</td>\n",
       "    </tr>\n",
       "    <tr>\n",
       "      <th>1167</th>\n",
       "      <td>m133</td>\n",
       "      <td>Naftisol</td>\n",
       "      <td>Female</td>\n",
       "      <td>2</td>\n",
       "      <td>26</td>\n",
       "      <td>15</td>\n",
       "      <td>48.665207</td>\n",
       "      <td>1</td>\n",
       "    </tr>\n",
       "    <tr>\n",
       "      <th>1854</th>\n",
       "      <td>y865</td>\n",
       "      <td>Ceftamin</td>\n",
       "      <td>Male</td>\n",
       "      <td>23</td>\n",
       "      <td>26</td>\n",
       "      <td>40</td>\n",
       "      <td>63.469549</td>\n",
       "      <td>3</td>\n",
       "    </tr>\n",
       "    <tr>\n",
       "      <th>1104</th>\n",
       "      <td>l471</td>\n",
       "      <td>Ceftamin</td>\n",
       "      <td>Female</td>\n",
       "      <td>7</td>\n",
       "      <td>28</td>\n",
       "      <td>5</td>\n",
       "      <td>46.251872</td>\n",
       "      <td>0</td>\n",
       "    </tr>\n",
       "    <tr>\n",
       "      <th>1423</th>\n",
       "      <td>q582</td>\n",
       "      <td>Placebo</td>\n",
       "      <td>Male</td>\n",
       "      <td>5</td>\n",
       "      <td>30</td>\n",
       "      <td>30</td>\n",
       "      <td>52.648894</td>\n",
       "      <td>2</td>\n",
       "    </tr>\n",
       "    <tr>\n",
       "      <th>1637</th>\n",
       "      <td>v766</td>\n",
       "      <td>Infubinol</td>\n",
       "      <td>Male</td>\n",
       "      <td>16</td>\n",
       "      <td>27</td>\n",
       "      <td>0</td>\n",
       "      <td>45.000000</td>\n",
       "      <td>0</td>\n",
       "    </tr>\n",
       "  </tbody>\n",
       "</table>\n",
       "</div>"
      ],
      "text/plain": [
       "     Mouse ID Drug Regimen     Sex  Age_months  Weight (g)  Timepoint  \\\n",
       "953      i635     Propriva    Male          21          26          0   \n",
       "1773     x581     Ceftamin  Female          19          28         45   \n",
       "1797     x822     Ceftamin    Male           3          29         45   \n",
       "1190     m550     Ketapril    Male          18          28         30   \n",
       "1192     m550     Ketapril    Male          18          28         40   \n",
       "1167     m133     Naftisol  Female           2          26         15   \n",
       "1854     y865     Ceftamin    Male          23          26         40   \n",
       "1104     l471     Ceftamin  Female           7          28          5   \n",
       "1423     q582      Placebo    Male           5          30         30   \n",
       "1637     v766    Infubinol    Male          16          27          0   \n",
       "\n",
       "      Tumour Volume (mm3)  Metastatic Sites  \n",
       "953             45.000000                 0  \n",
       "1773            64.634949                 3  \n",
       "1797            61.386660                 3  \n",
       "1190            60.856543                 4  \n",
       "1192            68.210720                 4  \n",
       "1167            48.665207                 1  \n",
       "1854            63.469549                 3  \n",
       "1104            46.251872                 0  \n",
       "1423            52.648894                 2  \n",
       "1637            45.000000                 0  "
      ]
     },
     "execution_count": 200,
     "metadata": {},
     "output_type": "execute_result"
    }
   ],
   "source": [
    "# Dependencies and Setup\n",
    "import matplotlib.pyplot as plt\n",
    "import pandas as pd\n",
    "import scipy.stats as st\n",
    "import numpy as np\n",
    "\n",
    "\n",
    "\n",
    "# Study data files\n",
    "mouse_metadata_path = \"data/Mouse_metadata.csv\"\n",
    "study_results_path = \"data/Study_results.csv\"\n",
    "\n",
    "# Read the mouse data and the study results\n",
    "mouse_metadata = pd.read_csv(mouse_metadata_path)\n",
    "study_results = pd.read_csv(study_results_path)\n",
    "\n",
    "# Combine the data into a single dataset\n",
    "merged_data = pd.merge(mouse_metadata, study_results, on=\"Mouse ID\", how=\"outer\")\n",
    "# Display the data table for preview\n",
    "merged_data.sample(10)\n"
   ]
  },
  {
   "cell_type": "code",
   "execution_count": 144,
   "metadata": {},
   "outputs": [
    {
     "name": "stdout",
     "output_type": "stream",
     "text": [
      "The number of mice in the mouse metadata dataframe is 249\n"
     ]
    }
   ],
   "source": [
    "#  Display the number of unique mice IDs in the data,\n",
    "numberof_mice = len(merged_data [\"Mouse ID\"].unique())\n",
    "print (f\"The number of mice in the mouse metadata dataframe is {numberof_mice}\")"
   ]
  },
  {
   "cell_type": "code",
   "execution_count": 166,
   "metadata": {},
   "outputs": [
    {
     "name": "stdout",
     "output_type": "stream",
     "text": [
      " There is 1 duplicated mouse for <<mouse ID and timepoint>> with the value of g989\n"
     ]
    }
   ],
   "source": [
    "# check for any mouse ID with duplicate time points \n",
    "duplicate_rows = merged_data[merged_data.duplicated([\"Mouse ID\", \"Timepoint\"])]\n",
    "duplicate_mice_id = duplicate_rows[\"Mouse ID\"].unique()\n",
    "for index, value in enumerate(duplicate_mice_id):\n",
    "    print(f\" There is {len(duplicate_mice_id)} duplicated mouse for <<mouse ID and timepoint>> with the value of {value}\")\n"
   ]
  },
  {
   "cell_type": "code",
   "execution_count": 175,
   "metadata": {},
   "outputs": [
    {
     "name": "stdout",
     "output_type": "stream",
     "text": [
      "    Mouse ID Drug Regimen     Sex  Age_months  Weight (g)  Timepoint  \\\n",
      "908     g989     Propriva  Female          21          26          0   \n",
      "909     g989     Propriva  Female          21          26          0   \n",
      "910     g989     Propriva  Female          21          26          5   \n",
      "911     g989     Propriva  Female          21          26          5   \n",
      "912     g989     Propriva  Female          21          26         10   \n",
      "913     g989     Propriva  Female          21          26         10   \n",
      "914     g989     Propriva  Female          21          26         15   \n",
      "915     g989     Propriva  Female          21          26         15   \n",
      "916     g989     Propriva  Female          21          26         20   \n",
      "917     g989     Propriva  Female          21          26         20   \n",
      "918     g989     Propriva  Female          21          26         25   \n",
      "919     g989     Propriva  Female          21          26         30   \n",
      "920     g989     Propriva  Female          21          26         35   \n",
      "\n",
      "     Tumour Volume (mm3)  Metastatic Sites  \n",
      "908            45.000000                 0  \n",
      "909            45.000000                 0  \n",
      "910            48.786801                 0  \n",
      "911            47.570392                 0  \n",
      "912            51.745156                 0  \n",
      "913            49.880528                 0  \n",
      "914            51.325852                 1  \n",
      "915            53.442020                 0  \n",
      "916            55.326122                 1  \n",
      "917            54.657650                 1  \n",
      "918            56.045564                 1  \n",
      "919            59.082294                 1  \n",
      "920            62.570880                 2  \n"
     ]
    }
   ],
   "source": [
    "# Display the data associated with that mouse ID\n",
    "data_dupl_mouse = merged_data.loc[merged_data[\"Mouse ID\"]==\"g989\"]\n",
    "print (data_dupl_mouse)"
   ]
  },
  {
   "cell_type": "code",
   "execution_count": 201,
   "metadata": {},
   "outputs": [
    {
     "data": {
      "text/html": [
       "<div>\n",
       "<style scoped>\n",
       "    .dataframe tbody tr th:only-of-type {\n",
       "        vertical-align: middle;\n",
       "    }\n",
       "\n",
       "    .dataframe tbody tr th {\n",
       "        vertical-align: top;\n",
       "    }\n",
       "\n",
       "    .dataframe thead th {\n",
       "        text-align: right;\n",
       "    }\n",
       "</style>\n",
       "<table border=\"1\" class=\"dataframe\">\n",
       "  <thead>\n",
       "    <tr style=\"text-align: right;\">\n",
       "      <th></th>\n",
       "      <th>Mouse ID</th>\n",
       "      <th>Drug Regimen</th>\n",
       "      <th>Sex</th>\n",
       "      <th>Age_months</th>\n",
       "      <th>Weight (g)</th>\n",
       "      <th>Timepoint</th>\n",
       "      <th>Tumour Volume (mm3)</th>\n",
       "      <th>Metastatic Sites</th>\n",
       "    </tr>\n",
       "  </thead>\n",
       "  <tbody>\n",
       "    <tr>\n",
       "      <th>871</th>\n",
       "      <td>g296</td>\n",
       "      <td>Zoniferol</td>\n",
       "      <td>Female</td>\n",
       "      <td>14</td>\n",
       "      <td>29</td>\n",
       "      <td>30</td>\n",
       "      <td>57.997706</td>\n",
       "      <td>3</td>\n",
       "    </tr>\n",
       "    <tr>\n",
       "      <th>1560</th>\n",
       "      <td>t718</td>\n",
       "      <td>Placebo</td>\n",
       "      <td>Female</td>\n",
       "      <td>10</td>\n",
       "      <td>30</td>\n",
       "      <td>40</td>\n",
       "      <td>61.530399</td>\n",
       "      <td>3</td>\n",
       "    </tr>\n",
       "    <tr>\n",
       "      <th>605</th>\n",
       "      <td>b559</td>\n",
       "      <td>Naftisol</td>\n",
       "      <td>Male</td>\n",
       "      <td>20</td>\n",
       "      <td>26</td>\n",
       "      <td>20</td>\n",
       "      <td>55.654456</td>\n",
       "      <td>1</td>\n",
       "    </tr>\n",
       "    <tr>\n",
       "      <th>1036</th>\n",
       "      <td>k382</td>\n",
       "      <td>Ketapril</td>\n",
       "      <td>Male</td>\n",
       "      <td>22</td>\n",
       "      <td>29</td>\n",
       "      <td>10</td>\n",
       "      <td>50.180968</td>\n",
       "      <td>1</td>\n",
       "    </tr>\n",
       "    <tr>\n",
       "      <th>1627</th>\n",
       "      <td>v603</td>\n",
       "      <td>Ketapril</td>\n",
       "      <td>Female</td>\n",
       "      <td>22</td>\n",
       "      <td>30</td>\n",
       "      <td>35</td>\n",
       "      <td>63.189432</td>\n",
       "      <td>1</td>\n",
       "    </tr>\n",
       "    <tr>\n",
       "      <th>1863</th>\n",
       "      <td>z581</td>\n",
       "      <td>Infubinol</td>\n",
       "      <td>Female</td>\n",
       "      <td>24</td>\n",
       "      <td>25</td>\n",
       "      <td>0</td>\n",
       "      <td>45.000000</td>\n",
       "      <td>0</td>\n",
       "    </tr>\n",
       "    <tr>\n",
       "      <th>513</th>\n",
       "      <td>a457</td>\n",
       "      <td>Ketapril</td>\n",
       "      <td>Female</td>\n",
       "      <td>11</td>\n",
       "      <td>30</td>\n",
       "      <td>10</td>\n",
       "      <td>49.783419</td>\n",
       "      <td>0</td>\n",
       "    </tr>\n",
       "    <tr>\n",
       "      <th>1629</th>\n",
       "      <td>v719</td>\n",
       "      <td>Infubinol</td>\n",
       "      <td>Female</td>\n",
       "      <td>17</td>\n",
       "      <td>30</td>\n",
       "      <td>5</td>\n",
       "      <td>47.188363</td>\n",
       "      <td>0</td>\n",
       "    </tr>\n",
       "    <tr>\n",
       "      <th>221</th>\n",
       "      <td>w914</td>\n",
       "      <td>Capomulin</td>\n",
       "      <td>Male</td>\n",
       "      <td>24</td>\n",
       "      <td>21</td>\n",
       "      <td>30</td>\n",
       "      <td>40.993110</td>\n",
       "      <td>0</td>\n",
       "    </tr>\n",
       "    <tr>\n",
       "      <th>887</th>\n",
       "      <td>g558</td>\n",
       "      <td>Propriva</td>\n",
       "      <td>Male</td>\n",
       "      <td>8</td>\n",
       "      <td>29</td>\n",
       "      <td>10</td>\n",
       "      <td>50.094754</td>\n",
       "      <td>0</td>\n",
       "    </tr>\n",
       "    <tr>\n",
       "      <th>880</th>\n",
       "      <td>g497</td>\n",
       "      <td>Ketapril</td>\n",
       "      <td>Male</td>\n",
       "      <td>19</td>\n",
       "      <td>28</td>\n",
       "      <td>25</td>\n",
       "      <td>57.524446</td>\n",
       "      <td>2</td>\n",
       "    </tr>\n",
       "    <tr>\n",
       "      <th>1533</th>\n",
       "      <td>t198</td>\n",
       "      <td>Propriva</td>\n",
       "      <td>Male</td>\n",
       "      <td>22</td>\n",
       "      <td>26</td>\n",
       "      <td>10</td>\n",
       "      <td>49.000810</td>\n",
       "      <td>1</td>\n",
       "    </tr>\n",
       "    <tr>\n",
       "      <th>1075</th>\n",
       "      <td>k804</td>\n",
       "      <td>Infubinol</td>\n",
       "      <td>Female</td>\n",
       "      <td>23</td>\n",
       "      <td>29</td>\n",
       "      <td>30</td>\n",
       "      <td>59.240615</td>\n",
       "      <td>2</td>\n",
       "    </tr>\n",
       "    <tr>\n",
       "      <th>194</th>\n",
       "      <td>j989</td>\n",
       "      <td>Ramicane</td>\n",
       "      <td>Male</td>\n",
       "      <td>8</td>\n",
       "      <td>19</td>\n",
       "      <td>45</td>\n",
       "      <td>36.134852</td>\n",
       "      <td>1</td>\n",
       "    </tr>\n",
       "    <tr>\n",
       "      <th>1213</th>\n",
       "      <td>n304</td>\n",
       "      <td>Naftisol</td>\n",
       "      <td>Male</td>\n",
       "      <td>9</td>\n",
       "      <td>26</td>\n",
       "      <td>35</td>\n",
       "      <td>57.122419</td>\n",
       "      <td>4</td>\n",
       "    </tr>\n",
       "    <tr>\n",
       "      <th>876</th>\n",
       "      <td>g497</td>\n",
       "      <td>Ketapril</td>\n",
       "      <td>Male</td>\n",
       "      <td>19</td>\n",
       "      <td>28</td>\n",
       "      <td>5</td>\n",
       "      <td>48.782069</td>\n",
       "      <td>0</td>\n",
       "    </tr>\n",
       "    <tr>\n",
       "      <th>564</th>\n",
       "      <td>a818</td>\n",
       "      <td>Naftisol</td>\n",
       "      <td>Female</td>\n",
       "      <td>12</td>\n",
       "      <td>28</td>\n",
       "      <td>30</td>\n",
       "      <td>60.072372</td>\n",
       "      <td>0</td>\n",
       "    </tr>\n",
       "    <tr>\n",
       "      <th>951</th>\n",
       "      <td>i477</td>\n",
       "      <td>Placebo</td>\n",
       "      <td>Female</td>\n",
       "      <td>3</td>\n",
       "      <td>30</td>\n",
       "      <td>5</td>\n",
       "      <td>46.657385</td>\n",
       "      <td>0</td>\n",
       "    </tr>\n",
       "    <tr>\n",
       "      <th>852</th>\n",
       "      <td>f993</td>\n",
       "      <td>Naftisol</td>\n",
       "      <td>Male</td>\n",
       "      <td>21</td>\n",
       "      <td>28</td>\n",
       "      <td>0</td>\n",
       "      <td>45.000000</td>\n",
       "      <td>0</td>\n",
       "    </tr>\n",
       "    <tr>\n",
       "      <th>1890</th>\n",
       "      <td>z969</td>\n",
       "      <td>Naftisol</td>\n",
       "      <td>Male</td>\n",
       "      <td>9</td>\n",
       "      <td>30</td>\n",
       "      <td>35</td>\n",
       "      <td>69.176246</td>\n",
       "      <td>4</td>\n",
       "    </tr>\n",
       "  </tbody>\n",
       "</table>\n",
       "</div>"
      ],
      "text/plain": [
       "     Mouse ID Drug Regimen     Sex  Age_months  Weight (g)  Timepoint  \\\n",
       "871      g296    Zoniferol  Female          14          29         30   \n",
       "1560     t718      Placebo  Female          10          30         40   \n",
       "605      b559     Naftisol    Male          20          26         20   \n",
       "1036     k382     Ketapril    Male          22          29         10   \n",
       "1627     v603     Ketapril  Female          22          30         35   \n",
       "1863     z581    Infubinol  Female          24          25          0   \n",
       "513      a457     Ketapril  Female          11          30         10   \n",
       "1629     v719    Infubinol  Female          17          30          5   \n",
       "221      w914    Capomulin    Male          24          21         30   \n",
       "887      g558     Propriva    Male           8          29         10   \n",
       "880      g497     Ketapril    Male          19          28         25   \n",
       "1533     t198     Propriva    Male          22          26         10   \n",
       "1075     k804    Infubinol  Female          23          29         30   \n",
       "194      j989     Ramicane    Male           8          19         45   \n",
       "1213     n304     Naftisol    Male           9          26         35   \n",
       "876      g497     Ketapril    Male          19          28          5   \n",
       "564      a818     Naftisol  Female          12          28         30   \n",
       "951      i477      Placebo  Female           3          30          5   \n",
       "852      f993     Naftisol    Male          21          28          0   \n",
       "1890     z969     Naftisol    Male           9          30         35   \n",
       "\n",
       "      Tumour Volume (mm3)  Metastatic Sites  \n",
       "871             57.997706                 3  \n",
       "1560            61.530399                 3  \n",
       "605             55.654456                 1  \n",
       "1036            50.180968                 1  \n",
       "1627            63.189432                 1  \n",
       "1863            45.000000                 0  \n",
       "513             49.783419                 0  \n",
       "1629            47.188363                 0  \n",
       "221             40.993110                 0  \n",
       "887             50.094754                 0  \n",
       "880             57.524446                 2  \n",
       "1533            49.000810                 1  \n",
       "1075            59.240615                 2  \n",
       "194             36.134852                 1  \n",
       "1213            57.122419                 4  \n",
       "876             48.782069                 0  \n",
       "564             60.072372                 0  \n",
       "951             46.657385                 0  \n",
       "852             45.000000                 0  \n",
       "1890            69.176246                 4  "
      ]
     },
     "execution_count": 201,
     "metadata": {},
     "output_type": "execute_result"
    }
   ],
   "source": [
    "# Create a clean DataFrame by dropping the duplicate mouse by its ID\n",
    "# Ccreate a new DataFrame where this data is removed. Use this cleaned DataFrame for the remaining steps.\n",
    "merged_data_clean = merged_data.drop_duplicates(subset = [\"Mouse ID\", \"Timepoint\"], keep = 'last')\n",
    "merged_data_clean.sample(20)"
   ]
  },
  {
   "cell_type": "code",
   "execution_count": 121,
   "metadata": {},
   "outputs": [
    {
     "name": "stdout",
     "output_type": "stream",
     "text": [
      "The number of mice in the merged datafile is 249\n"
     ]
    }
   ],
   "source": [
    "# Checking the number of mice in the clean DataFrame.\n",
    "merged_mice = pd.DataFrame (merged_data_clean [\"Mouse ID\"])\n",
    "merged_mice_count= len(merged_mice[\"Mouse ID\"].unique())\n",
    "print (f\"The number of mice in the merged datafile is {merged_mice_count}\")"
   ]
  },
  {
   "cell_type": "markdown",
   "metadata": {},
   "source": [
    "## Summary Statistics"
   ]
  },
  {
   "cell_type": "code",
   "execution_count": 185,
   "metadata": {},
   "outputs": [
    {
     "name": "stdout",
     "output_type": "stream",
     "text": [
      "                   Mean     Median   Variance       STD       SEM\n",
      "Drug Regimen                                                     \n",
      "Capomulin     40.675741  41.557809  24.947764  4.994774  0.329346\n",
      "Ceftamin      52.591172  51.776157  39.290177  6.268188  0.469821\n",
      "Infubinol     52.884795  51.820584  43.128684  6.567243  0.492236\n",
      "Ketapril      55.235638  53.698743  68.553577  8.279709  0.603860\n",
      "Naftisol      54.331565  52.509285  66.173479  8.134708  0.596466\n",
      "Placebo       54.033581  52.288934  61.168083  7.821003  0.581331\n",
      "Propriva      52.382993  50.783528  43.220205  6.574208  0.526358\n",
      "Ramicane      40.216745  40.673236  23.486704  4.846308  0.320955\n",
      "Stelasyn      54.233149  52.431737  59.450562  7.710419  0.573111\n",
      "Zoniferol     53.236507  51.818479  48.533355  6.966589  0.516398\n"
     ]
    }
   ],
   "source": [
    "# Generate a summary statistics table of mean, median, variance, standard deviation, and SEM of the tumour volume for each regimen\n",
    "\n",
    "# Use groupby and summary statistical methods to calculate the following properties of each drug regimen: \n",
    "# mean, median, variance, standard deviation, and SEM of the tumour volume. \n",
    "# Assemble the resulting series into a single summary dataframe.\n",
    "summary_stat = merged_data_clean.copy()\n",
    "summary_stat = summary_stat.groupby (\"Drug Regimen\")\n",
    "mean = summary_stat [\"Tumour Volume (mm3)\"].mean()\n",
    "median = summary_stat [\"Tumour Volume (mm3)\"].median()\n",
    "variance = summary_stat [\"Tumour Volume (mm3)\"].var()\n",
    "std = summary_stat [\"Tumour Volume (mm3)\"].std()\n",
    "sem = summary_stat [\"Tumour Volume (mm3)\"].sem()\n",
    "\n",
    "Stat_summary_df = pd.DataFrame({\"Mean\":mean,\"Median\": median, \"Variance\": variance, \n",
    "                    \"STD\": std, \"SEM\": sem})\n",
    "print (Stat_summary_df)"
   ]
  },
  {
   "cell_type": "code",
   "execution_count": 123,
   "metadata": {},
   "outputs": [
    {
     "data": {
      "text/html": [
       "<style  type=\"text/css\" >\n",
       "</style><table id=\"T_73f229c0_85a4_11ed_9e6c_de5bd39cded1\" ><caption>Summary statistics table of tumour volume for each regimen using agg</caption><thead>    <tr>        <th class=\"blank level0\" ></th>        <th class=\"col_heading level0 col0\" >mean</th>        <th class=\"col_heading level0 col1\" >median</th>        <th class=\"col_heading level0 col2\" >var</th>        <th class=\"col_heading level0 col3\" >std</th>        <th class=\"col_heading level0 col4\" >sem</th>    </tr>    <tr>        <th class=\"index_name level0\" >Drug Regimen</th>        <th class=\"blank\" ></th>        <th class=\"blank\" ></th>        <th class=\"blank\" ></th>        <th class=\"blank\" ></th>        <th class=\"blank\" ></th>    </tr></thead><tbody>\n",
       "                <tr>\n",
       "                        <th id=\"T_73f229c0_85a4_11ed_9e6c_de5bd39cded1level0_row0\" class=\"row_heading level0 row0\" >Capomulin</th>\n",
       "                        <td id=\"T_73f229c0_85a4_11ed_9e6c_de5bd39cded1row0_col0\" class=\"data row0 col0\" >40.675741</td>\n",
       "                        <td id=\"T_73f229c0_85a4_11ed_9e6c_de5bd39cded1row0_col1\" class=\"data row0 col1\" >41.557809</td>\n",
       "                        <td id=\"T_73f229c0_85a4_11ed_9e6c_de5bd39cded1row0_col2\" class=\"data row0 col2\" >24.947764</td>\n",
       "                        <td id=\"T_73f229c0_85a4_11ed_9e6c_de5bd39cded1row0_col3\" class=\"data row0 col3\" >4.994774</td>\n",
       "                        <td id=\"T_73f229c0_85a4_11ed_9e6c_de5bd39cded1row0_col4\" class=\"data row0 col4\" >0.329346</td>\n",
       "            </tr>\n",
       "            <tr>\n",
       "                        <th id=\"T_73f229c0_85a4_11ed_9e6c_de5bd39cded1level0_row1\" class=\"row_heading level0 row1\" >Ceftamin</th>\n",
       "                        <td id=\"T_73f229c0_85a4_11ed_9e6c_de5bd39cded1row1_col0\" class=\"data row1 col0\" >52.591172</td>\n",
       "                        <td id=\"T_73f229c0_85a4_11ed_9e6c_de5bd39cded1row1_col1\" class=\"data row1 col1\" >51.776157</td>\n",
       "                        <td id=\"T_73f229c0_85a4_11ed_9e6c_de5bd39cded1row1_col2\" class=\"data row1 col2\" >39.290177</td>\n",
       "                        <td id=\"T_73f229c0_85a4_11ed_9e6c_de5bd39cded1row1_col3\" class=\"data row1 col3\" >6.268188</td>\n",
       "                        <td id=\"T_73f229c0_85a4_11ed_9e6c_de5bd39cded1row1_col4\" class=\"data row1 col4\" >0.469821</td>\n",
       "            </tr>\n",
       "            <tr>\n",
       "                        <th id=\"T_73f229c0_85a4_11ed_9e6c_de5bd39cded1level0_row2\" class=\"row_heading level0 row2\" >Infubinol</th>\n",
       "                        <td id=\"T_73f229c0_85a4_11ed_9e6c_de5bd39cded1row2_col0\" class=\"data row2 col0\" >52.884795</td>\n",
       "                        <td id=\"T_73f229c0_85a4_11ed_9e6c_de5bd39cded1row2_col1\" class=\"data row2 col1\" >51.820584</td>\n",
       "                        <td id=\"T_73f229c0_85a4_11ed_9e6c_de5bd39cded1row2_col2\" class=\"data row2 col2\" >43.128684</td>\n",
       "                        <td id=\"T_73f229c0_85a4_11ed_9e6c_de5bd39cded1row2_col3\" class=\"data row2 col3\" >6.567243</td>\n",
       "                        <td id=\"T_73f229c0_85a4_11ed_9e6c_de5bd39cded1row2_col4\" class=\"data row2 col4\" >0.492236</td>\n",
       "            </tr>\n",
       "            <tr>\n",
       "                        <th id=\"T_73f229c0_85a4_11ed_9e6c_de5bd39cded1level0_row3\" class=\"row_heading level0 row3\" >Ketapril</th>\n",
       "                        <td id=\"T_73f229c0_85a4_11ed_9e6c_de5bd39cded1row3_col0\" class=\"data row3 col0\" >55.235638</td>\n",
       "                        <td id=\"T_73f229c0_85a4_11ed_9e6c_de5bd39cded1row3_col1\" class=\"data row3 col1\" >53.698743</td>\n",
       "                        <td id=\"T_73f229c0_85a4_11ed_9e6c_de5bd39cded1row3_col2\" class=\"data row3 col2\" >68.553577</td>\n",
       "                        <td id=\"T_73f229c0_85a4_11ed_9e6c_de5bd39cded1row3_col3\" class=\"data row3 col3\" >8.279709</td>\n",
       "                        <td id=\"T_73f229c0_85a4_11ed_9e6c_de5bd39cded1row3_col4\" class=\"data row3 col4\" >0.603860</td>\n",
       "            </tr>\n",
       "            <tr>\n",
       "                        <th id=\"T_73f229c0_85a4_11ed_9e6c_de5bd39cded1level0_row4\" class=\"row_heading level0 row4\" >Naftisol</th>\n",
       "                        <td id=\"T_73f229c0_85a4_11ed_9e6c_de5bd39cded1row4_col0\" class=\"data row4 col0\" >54.331565</td>\n",
       "                        <td id=\"T_73f229c0_85a4_11ed_9e6c_de5bd39cded1row4_col1\" class=\"data row4 col1\" >52.509285</td>\n",
       "                        <td id=\"T_73f229c0_85a4_11ed_9e6c_de5bd39cded1row4_col2\" class=\"data row4 col2\" >66.173479</td>\n",
       "                        <td id=\"T_73f229c0_85a4_11ed_9e6c_de5bd39cded1row4_col3\" class=\"data row4 col3\" >8.134708</td>\n",
       "                        <td id=\"T_73f229c0_85a4_11ed_9e6c_de5bd39cded1row4_col4\" class=\"data row4 col4\" >0.596466</td>\n",
       "            </tr>\n",
       "            <tr>\n",
       "                        <th id=\"T_73f229c0_85a4_11ed_9e6c_de5bd39cded1level0_row5\" class=\"row_heading level0 row5\" >Placebo</th>\n",
       "                        <td id=\"T_73f229c0_85a4_11ed_9e6c_de5bd39cded1row5_col0\" class=\"data row5 col0\" >54.033581</td>\n",
       "                        <td id=\"T_73f229c0_85a4_11ed_9e6c_de5bd39cded1row5_col1\" class=\"data row5 col1\" >52.288934</td>\n",
       "                        <td id=\"T_73f229c0_85a4_11ed_9e6c_de5bd39cded1row5_col2\" class=\"data row5 col2\" >61.168083</td>\n",
       "                        <td id=\"T_73f229c0_85a4_11ed_9e6c_de5bd39cded1row5_col3\" class=\"data row5 col3\" >7.821003</td>\n",
       "                        <td id=\"T_73f229c0_85a4_11ed_9e6c_de5bd39cded1row5_col4\" class=\"data row5 col4\" >0.581331</td>\n",
       "            </tr>\n",
       "            <tr>\n",
       "                        <th id=\"T_73f229c0_85a4_11ed_9e6c_de5bd39cded1level0_row6\" class=\"row_heading level0 row6\" >Propriva</th>\n",
       "                        <td id=\"T_73f229c0_85a4_11ed_9e6c_de5bd39cded1row6_col0\" class=\"data row6 col0\" >52.382993</td>\n",
       "                        <td id=\"T_73f229c0_85a4_11ed_9e6c_de5bd39cded1row6_col1\" class=\"data row6 col1\" >50.783528</td>\n",
       "                        <td id=\"T_73f229c0_85a4_11ed_9e6c_de5bd39cded1row6_col2\" class=\"data row6 col2\" >43.220205</td>\n",
       "                        <td id=\"T_73f229c0_85a4_11ed_9e6c_de5bd39cded1row6_col3\" class=\"data row6 col3\" >6.574208</td>\n",
       "                        <td id=\"T_73f229c0_85a4_11ed_9e6c_de5bd39cded1row6_col4\" class=\"data row6 col4\" >0.526358</td>\n",
       "            </tr>\n",
       "            <tr>\n",
       "                        <th id=\"T_73f229c0_85a4_11ed_9e6c_de5bd39cded1level0_row7\" class=\"row_heading level0 row7\" >Ramicane</th>\n",
       "                        <td id=\"T_73f229c0_85a4_11ed_9e6c_de5bd39cded1row7_col0\" class=\"data row7 col0\" >40.216745</td>\n",
       "                        <td id=\"T_73f229c0_85a4_11ed_9e6c_de5bd39cded1row7_col1\" class=\"data row7 col1\" >40.673236</td>\n",
       "                        <td id=\"T_73f229c0_85a4_11ed_9e6c_de5bd39cded1row7_col2\" class=\"data row7 col2\" >23.486704</td>\n",
       "                        <td id=\"T_73f229c0_85a4_11ed_9e6c_de5bd39cded1row7_col3\" class=\"data row7 col3\" >4.846308</td>\n",
       "                        <td id=\"T_73f229c0_85a4_11ed_9e6c_de5bd39cded1row7_col4\" class=\"data row7 col4\" >0.320955</td>\n",
       "            </tr>\n",
       "            <tr>\n",
       "                        <th id=\"T_73f229c0_85a4_11ed_9e6c_de5bd39cded1level0_row8\" class=\"row_heading level0 row8\" >Stelasyn</th>\n",
       "                        <td id=\"T_73f229c0_85a4_11ed_9e6c_de5bd39cded1row8_col0\" class=\"data row8 col0\" >54.233149</td>\n",
       "                        <td id=\"T_73f229c0_85a4_11ed_9e6c_de5bd39cded1row8_col1\" class=\"data row8 col1\" >52.431737</td>\n",
       "                        <td id=\"T_73f229c0_85a4_11ed_9e6c_de5bd39cded1row8_col2\" class=\"data row8 col2\" >59.450562</td>\n",
       "                        <td id=\"T_73f229c0_85a4_11ed_9e6c_de5bd39cded1row8_col3\" class=\"data row8 col3\" >7.710419</td>\n",
       "                        <td id=\"T_73f229c0_85a4_11ed_9e6c_de5bd39cded1row8_col4\" class=\"data row8 col4\" >0.573111</td>\n",
       "            </tr>\n",
       "            <tr>\n",
       "                        <th id=\"T_73f229c0_85a4_11ed_9e6c_de5bd39cded1level0_row9\" class=\"row_heading level0 row9\" >Zoniferol</th>\n",
       "                        <td id=\"T_73f229c0_85a4_11ed_9e6c_de5bd39cded1row9_col0\" class=\"data row9 col0\" >53.236507</td>\n",
       "                        <td id=\"T_73f229c0_85a4_11ed_9e6c_de5bd39cded1row9_col1\" class=\"data row9 col1\" >51.818479</td>\n",
       "                        <td id=\"T_73f229c0_85a4_11ed_9e6c_de5bd39cded1row9_col2\" class=\"data row9 col2\" >48.533355</td>\n",
       "                        <td id=\"T_73f229c0_85a4_11ed_9e6c_de5bd39cded1row9_col3\" class=\"data row9 col3\" >6.966589</td>\n",
       "                        <td id=\"T_73f229c0_85a4_11ed_9e6c_de5bd39cded1row9_col4\" class=\"data row9 col4\" >0.516398</td>\n",
       "            </tr>\n",
       "    </tbody></table>"
      ],
      "text/plain": [
       "<pandas.io.formats.style.Styler at 0x7fb629a7cf10>"
      ]
     },
     "execution_count": 123,
     "metadata": {},
     "output_type": "execute_result"
    }
   ],
   "source": [
    "# Generate a summary statistics table of mean, median, variance, standard deviation, and SEM of the tumour volume for each regimen\n",
    "\n",
    "# Using the aggregation method, produce the same summary statistics in a single line\n",
    "agg_table = merged_data_clean.groupby(\"Drug Regimen\") [\"Tumour Volume (mm3)\"].agg([\"mean\", \"median\",\"var\", \"std\", \"sem\"])\n",
    "agg_table = agg_table.style.set_caption(\"Summary statistics table of tumour volume for each regimen using agg\")\n",
    "agg_table\n"
   ]
  },
  {
   "cell_type": "markdown",
   "metadata": {},
   "source": [
    "## Bar and Pie Charts"
   ]
  },
  {
   "cell_type": "code",
   "execution_count": 189,
   "metadata": {},
   "outputs": [
    {
     "data": {
      "image/png": "[encoded data removed]",
      "text/plain": [
       "<Figure size 720x360 with 1 Axes>"
      ]
     },
     "metadata": {
      "needs_background": "light"
     },
     "output_type": "display_data"
    }
   ],
   "source": [
    "# Generate a bar plot showing the total number of timepoints for all mice tested for each drug regimen using Pandas.\n",
    "\n",
    "drugregimen_plot = merged_data_clean.groupby([\"Drug Regimen\"])\n",
    "total_timepoints =drugregimen_plot [\"Timepoint\"].count()\n",
    "\n",
    "time_plot_chart=total_timepoints.plot(kind=\"bar\", figsize=(10,5), color=\"red\",rot=45, \n",
    "                                    title=\"Total Timepoints per Drug Regimen using Pandas\")\n",
    "\n"
   ]
  },
  {
   "cell_type": "code",
   "execution_count": 190,
   "metadata": {},
   "outputs": [
    {
     "data": {
      "image/png": "[encoded data removed]",
      "text/plain": [
       "<Figure size 720x360 with 1 Axes>"
      ]
     },
     "metadata": {
      "needs_background": "light"
     },
     "output_type": "display_data"
    }
   ],
   "source": [
    "# Generate a bar plot showing the total number of timepoints for all mice tested for each drug regimen using pyplot.\n",
    "drug_regimens = merged_data_clean [\"Drug Regimen\"].unique()\n",
    "plt.figure(figsize=(10,5))\n",
    "plt.bar(drug_regimens, total_timepoints, color=\"r\", align=\"center\")\n",
    "plt.ylim(0, max(total_timepoints)+25)\n",
    "plt.title(\"Total Number of Timepoints per Drug Regimen using pyplot\")\n",
    "plt.xlabel(\"Drug Regimen\")\n",
    "plt.ylabel(\"Timepoints\")\n",
    "plt.xticks(rotation = 45)\n",
    "plt.show()\n"
   ]
  },
  {
   "cell_type": "code",
   "execution_count": 191,
   "metadata": {},
   "outputs": [
    {
     "data": {
      "image/png": "[encoded data removed]",
      "text/plain": [
       "<Figure size 720x720 with 1 Axes>"
      ]
     },
     "metadata": {},
     "output_type": "display_data"
    }
   ],
   "source": [
    "# Generate a pie plot showing the distribution of female versus male mice using Pandas\n",
    "\n",
    "sex_data= mouse_metadata.groupby([\"Sex\"]).count() [\"Mouse ID\"]\n",
    "\n",
    "sex_pie = sex_data.plot(kind=\"pie\",title=\"Sex distribution Drug Regimen tests with Pandas\", figsize=(10,10),explode= [0.025, 0.025], radius=1, ax=None,labeldistance=None, \n",
    "            legend =True,frame=False, shadow=True, colors = [\"pink\", \"steelblue\"], startangle=-45, autopct=\"%1.1f%%\")\n"
   ]
  },
  {
   "cell_type": "code",
   "execution_count": 192,
   "metadata": {},
   "outputs": [
    {
     "data": {
      "text/plain": [
       "<matplotlib.legend.Legend at 0x7fb5e8480650>"
      ]
     },
     "execution_count": 192,
     "metadata": {},
     "output_type": "execute_result"
    },
    {
     "data": {
      "image/png": "[encoded data removed]",
      "text/plain": [
       "<Figure size 720x720 with 1 Axes>"
      ]
     },
     "metadata": {},
     "output_type": "display_data"
    }
   ],
   "source": [
    "# Generate a pie plot showing the distribution of female versus male mice using pyplot\n",
    "plt.figure(figsize=(10,10))\n",
    "plt.pie(sex_data, colors=(\"pink\", \"steelblue\"),labels = [\"\",\"\"],explode=[0.025,0.025],startangle=-45,autopct=\"%1.1f%%\")\n",
    "plt.title(\"Sex distribution Drug Regimen tests with pyplot\")\n",
    "plt.legend([\"Female\", \"Male\"])"
   ]
  },
  {
   "cell_type": "markdown",
   "metadata": {},
   "source": [
    "## Quartiles, Outliers and Boxplots"
   ]
  },
  {
   "cell_type": "code",
   "execution_count": 128,
   "metadata": {},
   "outputs": [
    {
     "data": {
      "text/html": [
       "<div>\n",
       "<style scoped>\n",
       "    .dataframe tbody tr th:only-of-type {\n",
       "        vertical-align: middle;\n",
       "    }\n",
       "\n",
       "    .dataframe tbody tr th {\n",
       "        vertical-align: top;\n",
       "    }\n",
       "\n",
       "    .dataframe thead th {\n",
       "        text-align: right;\n",
       "    }\n",
       "</style>\n",
       "<table border=\"1\" class=\"dataframe\">\n",
       "  <thead>\n",
       "    <tr style=\"text-align: right;\">\n",
       "      <th></th>\n",
       "      <th>Mouse ID</th>\n",
       "      <th>Drug Regimen</th>\n",
       "      <th>Sex</th>\n",
       "      <th>Age_months</th>\n",
       "      <th>Weight (g)</th>\n",
       "      <th>Timepoint</th>\n",
       "      <th>Tumour Volume (mm3)</th>\n",
       "      <th>Metastatic Sites</th>\n",
       "      <th>Last_Timepoint</th>\n",
       "    </tr>\n",
       "  </thead>\n",
       "  <tbody>\n",
       "    <tr>\n",
       "      <th>350</th>\n",
       "      <td>v923</td>\n",
       "      <td>Capomulin</td>\n",
       "      <td>Female</td>\n",
       "      <td>19</td>\n",
       "      <td>21</td>\n",
       "      <td>45</td>\n",
       "      <td>40.658124</td>\n",
       "      <td>2</td>\n",
       "      <td>45</td>\n",
       "    </tr>\n",
       "    <tr>\n",
       "      <th>94</th>\n",
       "      <td>j913</td>\n",
       "      <td>Ramicane</td>\n",
       "      <td>Female</td>\n",
       "      <td>4</td>\n",
       "      <td>17</td>\n",
       "      <td>45</td>\n",
       "      <td>31.560470</td>\n",
       "      <td>1</td>\n",
       "      <td>45</td>\n",
       "    </tr>\n",
       "    <tr>\n",
       "      <th>617</th>\n",
       "      <td>b759</td>\n",
       "      <td>Ceftamin</td>\n",
       "      <td>Female</td>\n",
       "      <td>12</td>\n",
       "      <td>25</td>\n",
       "      <td>30</td>\n",
       "      <td>55.742829</td>\n",
       "      <td>1</td>\n",
       "      <td>30</td>\n",
       "    </tr>\n",
       "    <tr>\n",
       "      <th>282</th>\n",
       "      <td>l897</td>\n",
       "      <td>Capomulin</td>\n",
       "      <td>Male</td>\n",
       "      <td>17</td>\n",
       "      <td>19</td>\n",
       "      <td>45</td>\n",
       "      <td>38.846876</td>\n",
       "      <td>1</td>\n",
       "      <td>45</td>\n",
       "    </tr>\n",
       "    <tr>\n",
       "      <th>1738</th>\n",
       "      <td>x226</td>\n",
       "      <td>Ceftamin</td>\n",
       "      <td>Male</td>\n",
       "      <td>23</td>\n",
       "      <td>28</td>\n",
       "      <td>0</td>\n",
       "      <td>45.000000</td>\n",
       "      <td>0</td>\n",
       "      <td>0</td>\n",
       "    </tr>\n",
       "  </tbody>\n",
       "</table>\n",
       "</div>"
      ],
      "text/plain": [
       "     Mouse ID Drug Regimen     Sex  Age_months  Weight (g)  Timepoint  \\\n",
       "350      v923    Capomulin  Female          19          21         45   \n",
       "94       j913     Ramicane  Female           4          17         45   \n",
       "617      b759     Ceftamin  Female          12          25         30   \n",
       "282      l897    Capomulin    Male          17          19         45   \n",
       "1738     x226     Ceftamin    Male          23          28          0   \n",
       "\n",
       "      Tumour Volume (mm3)  Metastatic Sites  Last_Timepoint  \n",
       "350             40.658124                 2              45  \n",
       "94              31.560470                 1              45  \n",
       "617             55.742829                 1              30  \n",
       "282             38.846876                 1              45  \n",
       "1738            45.000000                 0               0  "
      ]
     },
     "execution_count": 128,
     "metadata": {},
     "output_type": "execute_result"
    }
   ],
   "source": [
    "# Calculate the final tumor volume of each mouse across four of the treatment regimens:\n",
    "# Capomulin, Ramicane, Infubinol, and Ceftamin\n",
    "\n",
    "# Start by getting the last (greatest) timepoint for each mouse\n",
    "stats_data = merged_data_clean.copy()\n",
    "mouse_tp_max = stats_data.groupby([\"Mouse ID\"]).max()\n",
    "mouse_tp_max = mouse_tp_max.reset_index()\n",
    "mouse_tp_max = mouse_tp_max[[\"Mouse ID\", \"Timepoint\"]]\n",
    "\n",
    "# Merge this group df with the original dataframe to get the tumour volume at the last timepoint\n",
    "merged_max_tp = pd.merge(merged_data_clean, mouse_tp_max, on=\"Mouse ID\", how=\"left\")\n",
    "\n",
    "# Rename Columns\n",
    "merged_max_tp_full = merged_max_tp.rename({\"Timepoint_x\": \"Timepoint\", \"Timepoint_y\": \"Last_Timepoint\"}, axis=\"columns\")\n",
    "\n",
    "#  select only the latest timepoint as per mouse_tp_max\n",
    "merged_max_tp = merged_max_tp_full.loc[(merged_max_tp_full[\"Timepoint\"] == merged_max_tp_full[\"Last_Timepoint\"])]\n",
    "\n",
    "# select only for the regimens in list \"Capomulin\", \"Ramicane\", \"Infubinol\",  \"Ceftamin\"\n",
    "sel_merged_max_tp = merged_max_tp.loc[merged_max_tp[\"Drug Regimen\"].isin([\"Capomulin\", \"Ramicane\", \"Infubinol\",  \"Ceftamin\"])]\n",
    "sel_merged_max_tp.sample(5)"
   ]
  },
  {
   "cell_type": "code",
   "execution_count": 129,
   "metadata": {},
   "outputs": [
    {
     "name": "stdout",
     "output_type": "stream",
     "text": [
      "For Capomulin the IQR is 7.781863460000004, the lower bound is 20.70456164999999 and the upper bound is 51.83201549\n",
      "For Ramicane the IQR is 9.098536719999998, the lower bound is 17.912664470000003 and the upper bound is 54.30681135\n",
      "For Infubinol the IQR is 11.477135160000003, the lower bound is 36.83290494999999 and the upper bound is 82.74144559000001\n",
      "A total of 1 outlier(s) for Infubinol with a mm3 of 36.321345799999996\n",
      "For Ceftamin the IQR is 15.577752179999997, the lower bound is 25.355449580000002 and the upper bound is 87.66645829999999\n"
     ]
    }
   ],
   "source": [
    "# Put treatments into a list for for loop (and later for plot labels)\n",
    "# Calculate the final tumour volume of each mouse across four of the most promising treatment regimens: Capomulin, Ramicane, Infubinol, and Ceftamin. \n",
    "# Then, calculate the quartiles and IQR, and determine if there are any potential outliers across all four treatment regimens. \n",
    "# Use the following substeps:\n",
    "\n",
    "# Sub step 1  \n",
    "                # Create a grouped DataFrame that shows the last (greatest) time point for each mouse. \n",
    "                # Merge this grouped DataFrame with the original cleaned DataFrame.\n",
    "        # SEE Previous code cell\n",
    "        \n",
    "# sub step 2 \n",
    "# Put treatments into a list for for loop (and later for plot labels)              \n",
    "regimen_used = [\"Capomulin\", \"Ramicane\", \"Infubinol\", \"Ceftamin\"]\n",
    "last_tumour_vol_sel = []\n",
    "\n",
    "# Calculate the IQR and quantitatively determine if there are any potential outliers. \n",
    "# Determine outliers using upper and lower bounds\n",
    "# regimen_data = sel_merged_max_tp.loc[sel_merged_max_tp[\"Drug Regimen\"] == \"Capomulin\"]['Tumour Volume (mm3)']\n",
    "for x in regimen_used:\n",
    "        last_tumour_vol_sel.append(sel_merged_max_tp.loc[sel_merged_max_tp[\"Drug Regimen\"] == x, [\"Drug Regimen\",\"Tumour Volume (mm3)\"]])\n",
    "        loop_data = sel_merged_max_tp.loc[sel_merged_max_tp[\"Drug Regimen\"] == x ]['Tumour Volume (mm3)']\n",
    "        loop_quartiles = loop_data.quantile([.25,.5,.75])\n",
    "        loop_q25 = loop_quartiles[0.25]\n",
    "        loop_q75 = loop_quartiles[0.75]\n",
    "        loop_iqr = loop_q75 - loop_q25\n",
    "        loop_lb = loop_q25 - (1.5 * loop_iqr)\n",
    "        loop_ub = loop_q75 + (1.5 * loop_iqr)\n",
    "        loop_out = loop_data.loc[(loop_data < loop_lb) | (loop_data > loop_ub)]\n",
    "        print(f\"For {x} the IQR is {loop_iqr}, the lower bound is {loop_lb} and the upper bound is {loop_ub}\")\n",
    "        for index, value in enumerate(loop_out):\n",
    "                print(f\"A total of {len(loop_out)} outlier(s) for {x} with a mm3 of {value}\")\n",
    "       \n",
    "# create dataframes from list for calculations and plots\n",
    "capomulin_vol =  pd.DataFrame(last_tumour_vol_sel[0][\"Tumour Volume (mm3)\"])\n",
    "ramicane_vol = pd.DataFrame(last_tumour_vol_sel[1][\"Tumour Volume (mm3)\"])\n",
    "infubinol_vol = pd.DataFrame(last_tumour_vol_sel[2][\"Tumour Volume (mm3)\"])\n",
    "ceftamin_vol = pd.DataFrame(last_tumour_vol_sel[3][\"Tumour Volume (mm3)\"])"
   ]
  },
  {
   "cell_type": "code",
   "execution_count": 130,
   "metadata": {},
   "outputs": [
    {
     "data": {
      "image/png": "[encoded data removed]",
      "text/plain": [
       "<Figure size 720x432 with 1 Axes>"
      ]
     },
     "metadata": {
      "needs_background": "light"
     },
     "output_type": "display_data"
    }
   ],
   "source": [
    "# Generate a box plot of the final tumour volume of each mouse across four regimens of interest\n",
    "# Using Matplotlib, generate a box plot that shows the distribution of the final tumour volume for all the mice in each treatment group. \n",
    "# Highlight any potential outliers in the plot by changing their color and style.\n",
    "# All four box plots should be within the same figure.\n",
    "plt.rcParams[\"figure.figsize\"] = [10, 6]\n",
    "plt.boxplot([capomulin_vol[\"Tumour Volume (mm3)\"], ramicane_vol[\"Tumour Volume (mm3)\"], infubinol_vol[\"Tumour Volume (mm3)\"], ceftamin_vol[\"Tumour Volume (mm3)\"]],\n",
    "                labels=[\"Capomulin\", \"Ramicane\", \"Infubinol\", \"Ceftamin\"],\n",
    "                flierprops={'markerfacecolor': 'cyan'})\n",
    "plt.title(\"Last measured Tumour Volume (mm3)\")\n",
    "plt.show()\n",
    "    "
   ]
  },
  {
   "cell_type": "markdown",
   "metadata": {},
   "source": [
    "## Line and Scatter Plots"
   ]
  },
  {
   "cell_type": "code",
   "execution_count": 131,
   "metadata": {},
   "outputs": [
    {
     "data": {
      "image/png": "[encoded data removed]",
      "text/plain": [
       "<Figure size 720x432 with 1 Axes>"
      ]
     },
     "metadata": {
      "needs_background": "light"
     },
     "output_type": "display_data"
    }
   ],
   "source": [
    "# Generate a line plot of tumour volume vs. time point for a mouse treated with Capomulin\n",
    "\n",
    "regimen_toplot = \"Capomulin\"\n",
    "mouse_toplot = \"s185\"\n",
    "\n",
    "lineplot_data_regimen = merged_data_clean.loc[(merged_data_clean[\"Drug Regimen\"]== regimen_toplot)]\n",
    "lineplot_data_mouse = lineplot_data_regimen.loc[(lineplot_data_regimen[\"Mouse ID\"]== mouse_toplot)]\n",
    "plt.plot(lineplot_data_mouse[\"Timepoint\"], lineplot_data_mouse[\"Tumour Volume (mm3)\"])\n",
    "plt.xlabel(\"Timepoint\")\n",
    "plt.ylabel(\"Tumour Volume (mm3)\")\n",
    "plt.title(f\"Tumour Volume for regimen {regimen_toplot} and mouse {mouse_toplot}\")\n",
    "plt.show()\n",
    "    "
   ]
  },
  {
   "cell_type": "code",
   "execution_count": 132,
   "metadata": {},
   "outputs": [
    {
     "data": {
      "image/png": "[encoded data removed]",
      "text/plain": [
       "<Figure size 720x432 with 1 Axes>"
      ]
     },
     "metadata": {
      "needs_background": "light"
     },
     "output_type": "display_data"
    }
   ],
   "source": [
    "# Generate a scatter plot of average tumour volume vs. mouse weight for the Capomulin regimen\n",
    "regimen_toscatter = \"Capomulin\"\n",
    "\n",
    "\n",
    "scatterplot_data = merged_data_clean.loc[(merged_data_clean[\"Drug Regimen\"]== regimen_toscatter)]\n",
    "scatterplot_data = scatterplot_data.groupby([\"Mouse ID\"]).mean()\n",
    "plt.scatter(scatterplot_data[\"Weight (g)\"], scatterplot_data[\"Tumour Volume (mm3)\"])\n",
    "plt.xlabel(\"Weight (g)\")\n",
    "plt.ylabel(\"Tumour Volume (mm3)\")\n",
    "plt.title(f\"Average Tumour Volume during test of {regimen_toscatter} versus the mouse wight (g)\")\n",
    "plt.show()\n"
   ]
  },
  {
   "cell_type": "markdown",
   "metadata": {},
   "source": [
    "## Correlation and Regression"
   ]
  },
  {
   "cell_type": "code",
   "execution_count": 139,
   "metadata": {},
   "outputs": [
    {
     "name": "stdout",
     "output_type": "stream",
     "text": [
      "The correlation coefficient between mouse weight and average tumour volume (mm3) is 0.84\n"
     ]
    },
    {
     "data": {
      "image/png": "[encoded data removed]",
      "text/plain": [
       "<Figure size 720x432 with 1 Axes>"
      ]
     },
     "metadata": {
      "needs_background": "light"
     },
     "output_type": "display_data"
    }
   ],
   "source": [
    "# Calculate the correlation coefficient and linear regression model \n",
    "# for mouse weight and average tumour volume for the Capomulin regimen\n",
    "corr_weight = scatterplot_data[\"Weight (g)\"]\n",
    "corr_volume = scatterplot_data [\"Tumour Volume (mm3)\"]\n",
    "print(f\"The correlation coefficient between mouse weight and average tumour volume (mm3) is {round(st.pearsonr(corr_weight,corr_volume)[0],2)}\")\n",
    "\n",
    "pe_slope, pe_int, pe_r, pe_p, pe_std_err = st.linregress(corr_weight, corr_volume)\n",
    "pe_fit = pe_slope * corr_weight + pe_int\n",
    "\n",
    "plt.scatter(corr_weight,corr_volume)\n",
    "plt.plot(corr_weight,pe_fit,\"--\")\n",
    "plt.xticks(corr_weight)\n",
    "plt.xlabel(\"Weight (g)\")\n",
    "plt.ylabel(\"Tumour Volume (mm3)\")\n",
    "plt.title(f\"Average Tumour Volume during test of {regimen_toscatter} versus the mouse wight (g)\")\n",
    "plt.show()"
   ]
  },
  {
   "cell_type": "code",
   "execution_count": null,
   "metadata": {},
   "outputs": [],
   "source": []
  }
 ],
 "metadata": {
  "anaconda-cloud": {},
  "kernelspec": {
   "display_name": "Python 3 (ipykernel)",
   "language": "python",
   "name": "python3"
  },
  "language_info": {
   "codemirror_mode": {
    "name": "ipython",
    "version": 3
   },
   "file_extension": ".py",
   "mimetype": "text/x-python",
   "name": "python",
   "nbconvert_exporter": "python",
   "pygments_lexer": "ipython3",
   "version": "3.7.7"
  },
  "vscode": {
   "interpreter": {
    "hash": "97e4e3bd698041cec7950108a51681a35adad8e0ac92ce206a32a8d5512553d1"
   }
  }
 },
 "nbformat": 4,
 "nbformat_minor": 4
}
